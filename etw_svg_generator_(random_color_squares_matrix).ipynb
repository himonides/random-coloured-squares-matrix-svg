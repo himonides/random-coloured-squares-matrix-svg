{
  "nbformat": 4,
  "nbformat_minor": 0,
  "metadata": {
    "colab": {
      "name": "etw svg generator (random color squares matrix)",
      "provenance": [],
      "authorship_tag": "ABX9TyMsirh9PkottZ7ZWQps4q0w",
      "include_colab_link": true
    },
    "kernelspec": {
      "name": "python3",
      "display_name": "Python 3"
    }
  },
  "cells": [
    {
      "cell_type": "markdown",
      "metadata": {
        "id": "view-in-github",
        "colab_type": "text"
      },
      "source": [
        "<a href=\"https://colab.research.google.com/github/himonides/random-coloured-squares-matrix-svg/blob/main/etw_svg_generator_(random_color_squares_matrix).ipynb\" target=\"_parent\"><img src=\"https://colab.research.google.com/assets/colab-badge.svg\" alt=\"Open In Colab\"/></a>"
      ]
    },
    {
      "cell_type": "code",
      "metadata": {
        "colab": {
          "base_uri": "https://localhost:8080/",
          "height": 234
        },
        "id": "y33SIwlAe4Kq",
        "outputId": "c51c5c5c-9b74-4d8b-f98d-d7611995eca0"
      },
      "source": [
        "# -*- coding: utf-8 -*-\n",
        "# etw svg generator\n",
        "# run as:\n",
        "# copyright Dr Evangelos Himonides 2020\n",
        "# python3 etw_svg_generator.py nn > output.svg\n",
        "\n",
        "import sys # import sys module so that we can pass argument at command line\n",
        "import random # import random module\n",
        "\n",
        "\n",
        "#function for generating a random color in hex\n",
        "def etw_generate_random_color():\n",
        "\n",
        "    r_value = hex(random.randrange(0, 255))[2:]\n",
        "    g_value = hex(random.randrange(0, 255))[2:]\n",
        "    b_value = hex(random.randrange(0, 255))[2:]\n",
        "\n",
        "    random_hex_color = '#'+r_value+g_value+b_value\n",
        "\n",
        "    return random_hex_color\n",
        "\n",
        "etw_size = 10 #this is the default square matrix size if argument is omitted in command line\n",
        "\n",
        "etw_args_check = len(sys.argv) #check how many arguments were passed at command prompt\n",
        "\n",
        "if etw_args_check > 1: #if at least one more argument has been passed at command\n",
        "\tetw_size = int(sys.argv[1]) #take the second argument as square matrix size\n",
        "\n",
        "etw_preamble = \"\"\"<svg\n",
        "   xmlns:dc=\"http://purl.org/dc/elements/1.1/\"\n",
        "   xmlns:cc=\"http://creativecommons.org/ns#\"\n",
        "   xmlns:rdf=\"http://www.w3.org/1999/02/22-rdf-syntax-ns#\"\n",
        "   xmlns:svg=\"http://www.w3.org/2000/svg\"\n",
        "   xmlns=\"http://www.w3.org/2000/svg\"\n",
        "   version=\"1.1\"\n",
        "   width=\"744.09448\"\n",
        "   height=\"1052.3622\"\n",
        "   id=\"svg3671\">\n",
        "  <defs\n",
        "     id=\"defs3673\" />\n",
        "  <metadata\n",
        "     id=\"metadata3676\">\n",
        "    <rdf:RDF>\n",
        "      <cc:Work\n",
        "         rdf:about=\"\">\n",
        "        <dc:format>image/svg+xml</dc:format>\n",
        "        <dc:type\n",
        "           rdf:resource=\"http://purl.org/dc/dcmitype/StillImage\" />\n",
        "        <dc:title></dc:title>\n",
        "      </cc:Work>\n",
        "    </rdf:RDF>\n",
        "  </metadata>\n",
        "    <g\n",
        "     id=\"layer1\">\"\"\"\n",
        "\n",
        "print(etw_preamble)\n",
        "\n",
        "for i in range(1,etw_size+1):\n",
        "  for j in range(1,etw_size+1):\n",
        "    print(\"<rect width=\\\"100\\\" height=\\\"100\\\" x=\\\"\",i*100,\"\\\" y=\\\"\",j*100,\"\\\" id=\\\"etwid\",str(i+j),\"\\\" style=\\\"fill:\",etw_generate_random_color(),\";fill-opacity:1;stroke:none\\\"/>\",sep = '')\n",
        "\n",
        "print(\"\"\"  </g>\n",
        "</svg>\n",
        "\"\"\")"
      ],
      "execution_count": null,
      "outputs": [
        {
          "output_type": "error",
          "ename": "ValueError",
          "evalue": "ignored",
          "traceback": [
            "\u001b[0;31m---------------------------------------------------------------------------\u001b[0m",
            "\u001b[0;31mValueError\u001b[0m                                Traceback (most recent call last)",
            "\u001b[0;32m<ipython-input-1-0a3d4d375b25>\u001b[0m in \u001b[0;36m<module>\u001b[0;34m()\u001b[0m\n\u001b[1;32m     17\u001b[0m \u001b[0;34m\u001b[0m\u001b[0m\n\u001b[1;32m     18\u001b[0m \u001b[0;32mif\u001b[0m \u001b[0metw_args_check\u001b[0m \u001b[0;34m>\u001b[0m \u001b[0;36m1\u001b[0m\u001b[0;34m:\u001b[0m\u001b[0;34m\u001b[0m\u001b[0;34m\u001b[0m\u001b[0m\n\u001b[0;32m---> 19\u001b[0;31m         \u001b[0metw_size\u001b[0m \u001b[0;34m=\u001b[0m \u001b[0mint\u001b[0m\u001b[0;34m(\u001b[0m\u001b[0msys\u001b[0m\u001b[0;34m.\u001b[0m\u001b[0margv\u001b[0m\u001b[0;34m[\u001b[0m\u001b[0;36m1\u001b[0m\u001b[0;34m]\u001b[0m\u001b[0;34m)\u001b[0m\u001b[0;34m\u001b[0m\u001b[0;34m\u001b[0m\u001b[0m\n\u001b[0m\u001b[1;32m     20\u001b[0m \u001b[0;34m\u001b[0m\u001b[0m\n\u001b[1;32m     21\u001b[0m etw_preamble = \"\"\"<svg\n",
            "\u001b[0;31mValueError\u001b[0m: invalid literal for int() with base 10: '-f'"
          ]
        }
      ]
    }
  ]
}